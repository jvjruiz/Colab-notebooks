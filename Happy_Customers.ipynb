{
  "nbformat": 4,
  "nbformat_minor": 0,
  "metadata": {
    "colab": {
      "name": "Happy Customers.ipynb",
      "provenance": [],
      "collapsed_sections": [],
      "authorship_tag": "ABX9TyMVH6u98knfXZpTNfkOLRtJ",
      "include_colab_link": true
    },
    "kernelspec": {
      "name": "python3",
      "display_name": "Python 3"
    }
  },
  "cells": [
    {
      "cell_type": "markdown",
      "metadata": {
        "id": "view-in-github",
        "colab_type": "text"
      },
      "source": [
        "<a href=\"https://colab.research.google.com/github/jvjruiz/Colab-notebooks/blob/master/Happy_Customers.ipynb\" target=\"_parent\"><img src=\"https://colab.research.google.com/assets/colab-badge.svg\" alt=\"Open In Colab\"/></a>"
      ]
    },
    {
      "cell_type": "markdown",
      "metadata": {
        "id": "H0ZU21sL76TO",
        "colab_type": "text"
      },
      "source": [
        "# Background and Exploratory Data Analysis:\n",
        "\n",
        "ACME is one of the fastest growing startups in the logistics and delivery domain. We work with several partners and make on-demand delivery to our customers. During the COVID-19 pandemic, we are facing several different challenges and everyday we are trying to address these challenges.\n",
        "\n",
        "At ACME we thrive for making our customers happy. As a growing startup, with a global expansion strategy we know that we need to make our customers happy and the only way to do that is to measure how happy each customer is. If we can predict what makes our customers happy or unhappy, we can then take necessary actions.\n",
        "\n",
        "Getting feedback from customers is not easy either, but we do our best to get constant feedback from our customers. This is a crucial function to improve our operations across all levels.\n",
        "\n",
        "We recently did a survey to a select customer cohort. You are presented with a subset of this data. We will be using the remaining data as a private test set."
      ]
    },
    {
      "cell_type": "code",
      "metadata": {
        "id": "-HPJrhSyn7zd",
        "colab_type": "code",
        "colab": {}
      },
      "source": [
        "# import necessary packages\n",
        "import pandas as pd\n",
        "import numpy as np\n",
        "from google.colab import drive\n",
        "from sklearn.ensemble import RandomForestClassifier\n",
        "from sklearn.linear_model import LogisticRegression\n",
        "from sklearn.model_selection import train_test_split, StratifiedShuffleSplit\n",
        "from sklearn.naive_bayes import GaussianNB\n",
        "from sklearn.neighbors import KNeighborsClassifier\n",
        "from sklearn.metrics import f1_score, confusion_matrix, plot_confusion_matrix\n",
        "from sklearn import svm\n",
        "\n",
        "\n",
        "import itertools\n",
        "from matplotlib import pyplot as plt"
      ],
      "execution_count": null,
      "outputs": []
    },
    {
      "cell_type": "markdown",
      "metadata": {
        "id": "xOmS8jss9DGS",
        "colab_type": "text"
      },
      "source": [
        "Data Description:\n",
        "\n",
        "Y = target attribute (Y) with values indicating 0 (unhappy) and 1 (happy) customers <br> \n",
        "X1 = my order was delivered on time<br>\n",
        "X2 = contents of my order was as I expected<br>\n",
        "X3 = I ordered everything I wanted to order<br>\n",
        "X4 = I paid a good price for my order<br>\n",
        "X5 = I am satisfied with my courier<br>\n",
        "X6 = the app makes ordering easy for me<br>"
      ]
    },
    {
      "cell_type": "code",
      "metadata": {
        "id": "s88Qof9ThaCz",
        "colab_type": "code",
        "colab": {
          "base_uri": "https://localhost:8080/",
          "height": 309
        },
        "outputId": "d99838f4-0aed-4b19-8563-c9ecd07745ba"
      },
      "source": [
        "# initialize random_state for everything\n",
        "random_state = 42\n",
        "\n",
        "# load the data from google drive\n",
        "drive.mount('/content/drive')\n",
        "path = '/content/drive/My Drive/ml_stuff/ACME-HappinessSurvey2020.csv'\n",
        "df = pd.read_csv(path)\n",
        "df.head()"
      ],
      "execution_count": null,
      "outputs": [
        {
          "output_type": "stream",
          "text": [
            "Go to this URL in a browser: https://accounts.google.com/o/oauth2/auth?client_id=947318989803-6bn6qk8qdgf4n4g3pfee6491hc0brc4i.apps.googleusercontent.com&redirect_uri=urn%3aietf%3awg%3aoauth%3a2.0%3aoob&response_type=code&scope=email%20https%3a%2f%2fwww.googleapis.com%2fauth%2fdocs.test%20https%3a%2f%2fwww.googleapis.com%2fauth%2fdrive%20https%3a%2f%2fwww.googleapis.com%2fauth%2fdrive.photos.readonly%20https%3a%2f%2fwww.googleapis.com%2fauth%2fpeopleapi.readonly\n",
            "\n",
            "Enter your authorization code:\n",
            "··········\n",
            "Mounted at /content/drive\n"
          ],
          "name": "stdout"
        },
        {
          "output_type": "execute_result",
          "data": {
            "text/html": [
              "<div>\n",
              "<style scoped>\n",
              "    .dataframe tbody tr th:only-of-type {\n",
              "        vertical-align: middle;\n",
              "    }\n",
              "\n",
              "    .dataframe tbody tr th {\n",
              "        vertical-align: top;\n",
              "    }\n",
              "\n",
              "    .dataframe thead th {\n",
              "        text-align: right;\n",
              "    }\n",
              "</style>\n",
              "<table border=\"1\" class=\"dataframe\">\n",
              "  <thead>\n",
              "    <tr style=\"text-align: right;\">\n",
              "      <th></th>\n",
              "      <th>Y</th>\n",
              "      <th>X1</th>\n",
              "      <th>X2</th>\n",
              "      <th>X3</th>\n",
              "      <th>X4</th>\n",
              "      <th>X5</th>\n",
              "      <th>X6</th>\n",
              "    </tr>\n",
              "  </thead>\n",
              "  <tbody>\n",
              "    <tr>\n",
              "      <th>0</th>\n",
              "      <td>0</td>\n",
              "      <td>3</td>\n",
              "      <td>3</td>\n",
              "      <td>3</td>\n",
              "      <td>4</td>\n",
              "      <td>2</td>\n",
              "      <td>4</td>\n",
              "    </tr>\n",
              "    <tr>\n",
              "      <th>1</th>\n",
              "      <td>0</td>\n",
              "      <td>3</td>\n",
              "      <td>2</td>\n",
              "      <td>3</td>\n",
              "      <td>5</td>\n",
              "      <td>4</td>\n",
              "      <td>3</td>\n",
              "    </tr>\n",
              "    <tr>\n",
              "      <th>2</th>\n",
              "      <td>1</td>\n",
              "      <td>5</td>\n",
              "      <td>3</td>\n",
              "      <td>3</td>\n",
              "      <td>3</td>\n",
              "      <td>3</td>\n",
              "      <td>5</td>\n",
              "    </tr>\n",
              "    <tr>\n",
              "      <th>3</th>\n",
              "      <td>0</td>\n",
              "      <td>5</td>\n",
              "      <td>4</td>\n",
              "      <td>3</td>\n",
              "      <td>3</td>\n",
              "      <td>3</td>\n",
              "      <td>5</td>\n",
              "    </tr>\n",
              "    <tr>\n",
              "      <th>4</th>\n",
              "      <td>0</td>\n",
              "      <td>5</td>\n",
              "      <td>4</td>\n",
              "      <td>3</td>\n",
              "      <td>3</td>\n",
              "      <td>3</td>\n",
              "      <td>5</td>\n",
              "    </tr>\n",
              "  </tbody>\n",
              "</table>\n",
              "</div>"
            ],
            "text/plain": [
              "   Y  X1  X2  X3  X4  X5  X6\n",
              "0  0   3   3   3   4   2   4\n",
              "1  0   3   2   3   5   4   3\n",
              "2  1   5   3   3   3   3   5\n",
              "3  0   5   4   3   3   3   5\n",
              "4  0   5   4   3   3   3   5"
            ]
          },
          "metadata": {
            "tags": []
          },
          "execution_count": 2
        }
      ]
    },
    {
      "cell_type": "code",
      "metadata": {
        "id": "7ks2Tt9JovXa",
        "colab_type": "code",
        "colab": {
          "base_uri": "https://localhost:8080/",
          "height": 204
        },
        "outputId": "78cb95cf-07b1-44ad-83a2-9708b0ea3958"
      },
      "source": [
        "# rename columns to make them more friendly\n",
        "df = df.rename(columns={'Y':'happy','X1':'on_time', 'X2':'as_expected', 'X3': 'everything_ordered', 'X4':'good_price', 'X5':'satisfied_courier', 'X6':'app_easy'})\n",
        "df.head()"
      ],
      "execution_count": null,
      "outputs": [
        {
          "output_type": "execute_result",
          "data": {
            "text/html": [
              "<div>\n",
              "<style scoped>\n",
              "    .dataframe tbody tr th:only-of-type {\n",
              "        vertical-align: middle;\n",
              "    }\n",
              "\n",
              "    .dataframe tbody tr th {\n",
              "        vertical-align: top;\n",
              "    }\n",
              "\n",
              "    .dataframe thead th {\n",
              "        text-align: right;\n",
              "    }\n",
              "</style>\n",
              "<table border=\"1\" class=\"dataframe\">\n",
              "  <thead>\n",
              "    <tr style=\"text-align: right;\">\n",
              "      <th></th>\n",
              "      <th>happy</th>\n",
              "      <th>on_time</th>\n",
              "      <th>as_expected</th>\n",
              "      <th>everything_ordered</th>\n",
              "      <th>good_price</th>\n",
              "      <th>satisfied_courier</th>\n",
              "      <th>app_easy</th>\n",
              "    </tr>\n",
              "  </thead>\n",
              "  <tbody>\n",
              "    <tr>\n",
              "      <th>0</th>\n",
              "      <td>0</td>\n",
              "      <td>3</td>\n",
              "      <td>3</td>\n",
              "      <td>3</td>\n",
              "      <td>4</td>\n",
              "      <td>2</td>\n",
              "      <td>4</td>\n",
              "    </tr>\n",
              "    <tr>\n",
              "      <th>1</th>\n",
              "      <td>0</td>\n",
              "      <td>3</td>\n",
              "      <td>2</td>\n",
              "      <td>3</td>\n",
              "      <td>5</td>\n",
              "      <td>4</td>\n",
              "      <td>3</td>\n",
              "    </tr>\n",
              "    <tr>\n",
              "      <th>2</th>\n",
              "      <td>1</td>\n",
              "      <td>5</td>\n",
              "      <td>3</td>\n",
              "      <td>3</td>\n",
              "      <td>3</td>\n",
              "      <td>3</td>\n",
              "      <td>5</td>\n",
              "    </tr>\n",
              "    <tr>\n",
              "      <th>3</th>\n",
              "      <td>0</td>\n",
              "      <td>5</td>\n",
              "      <td>4</td>\n",
              "      <td>3</td>\n",
              "      <td>3</td>\n",
              "      <td>3</td>\n",
              "      <td>5</td>\n",
              "    </tr>\n",
              "    <tr>\n",
              "      <th>4</th>\n",
              "      <td>0</td>\n",
              "      <td>5</td>\n",
              "      <td>4</td>\n",
              "      <td>3</td>\n",
              "      <td>3</td>\n",
              "      <td>3</td>\n",
              "      <td>5</td>\n",
              "    </tr>\n",
              "  </tbody>\n",
              "</table>\n",
              "</div>"
            ],
            "text/plain": [
              "   happy  on_time  as_expected  ...  good_price  satisfied_courier  app_easy\n",
              "0      0        3            3  ...           4                  2         4\n",
              "1      0        3            2  ...           5                  4         3\n",
              "2      1        5            3  ...           3                  3         5\n",
              "3      0        5            4  ...           3                  3         5\n",
              "4      0        5            4  ...           3                  3         5\n",
              "\n",
              "[5 rows x 7 columns]"
            ]
          },
          "metadata": {
            "tags": []
          },
          "execution_count": 3
        }
      ]
    },
    {
      "cell_type": "code",
      "metadata": {
        "id": "9_96Y0df-_Q0",
        "colab_type": "code",
        "colab": {
          "base_uri": "https://localhost:8080/",
          "height": 153
        },
        "outputId": "ebc93d68-a327-4e74-8b17-e76ed6d2b067"
      },
      "source": [
        "df.dtypes"
      ],
      "execution_count": null,
      "outputs": [
        {
          "output_type": "execute_result",
          "data": {
            "text/plain": [
              "happy                 int64\n",
              "on_time               int64\n",
              "as_expected           int64\n",
              "everything_ordered    int64\n",
              "good_price            int64\n",
              "satisfied_courier     int64\n",
              "app_easy              int64\n",
              "dtype: object"
            ]
          },
          "metadata": {
            "tags": []
          },
          "execution_count": 4
        }
      ]
    },
    {
      "cell_type": "markdown",
      "metadata": {
        "id": "s8B7FrrB_r32",
        "colab_type": "text"
      },
      "source": [
        "Before throwing the data into any models, we should do some basic exploratory data analysis to get a better understanding, and also to see if we need to do any pre-processing on the data."
      ]
    },
    {
      "cell_type": "code",
      "metadata": {
        "id": "dohFkCrpjYEy",
        "colab_type": "code",
        "colab": {
          "base_uri": "https://localhost:8080/",
          "height": 163
        },
        "outputId": "80806419-af30-41d7-a65f-5aedee367780"
      },
      "source": [
        "# check if any values are null or empty, we if any are empty we have to do do some pre-processing\n",
        "df.isnull().sum()"
      ],
      "execution_count": null,
      "outputs": [
        {
          "output_type": "execute_result",
          "data": {
            "text/plain": [
              "happy                 0\n",
              "on_time               0\n",
              "as_expected           0\n",
              "everything_ordered    0\n",
              "good_price            0\n",
              "satisfied_courier     0\n",
              "app_easy              0\n",
              "dtype: int64"
            ]
          },
          "metadata": {
            "tags": []
          },
          "execution_count": 4
        }
      ]
    },
    {
      "cell_type": "markdown",
      "metadata": {
        "id": "d18vPVC8_U_i",
        "colab_type": "text"
      },
      "source": [
        "Looks like there are no missing values, next we should check if the classes are balanced. If they aren't we would have to do some pre-processing to make the classes more balanced so the model can learn with less bias.\n",
        "\n",
        "Below are some graphs on the data. It looks like the classes are balanced enough, and the means and standard deviations are generally close together.\n",
        "\n",
        "Looking at the graph below, it looks like the classes are balanced enough, so we don't have to do anything further in that aspect."
      ]
    },
    {
      "cell_type": "code",
      "metadata": {
        "id": "QDgibvPzRn7i",
        "colab_type": "code",
        "colab": {
          "base_uri": "https://localhost:8080/",
          "height": 288
        },
        "outputId": "546d676f-de6e-417d-a9fb-89dfaea814da"
      },
      "source": [
        "# some stats on the features\n",
        "df.describe()"
      ],
      "execution_count": null,
      "outputs": [
        {
          "output_type": "execute_result",
          "data": {
            "text/html": [
              "<div>\n",
              "<style scoped>\n",
              "    .dataframe tbody tr th:only-of-type {\n",
              "        vertical-align: middle;\n",
              "    }\n",
              "\n",
              "    .dataframe tbody tr th {\n",
              "        vertical-align: top;\n",
              "    }\n",
              "\n",
              "    .dataframe thead th {\n",
              "        text-align: right;\n",
              "    }\n",
              "</style>\n",
              "<table border=\"1\" class=\"dataframe\">\n",
              "  <thead>\n",
              "    <tr style=\"text-align: right;\">\n",
              "      <th></th>\n",
              "      <th>happy</th>\n",
              "      <th>on_time</th>\n",
              "      <th>as_expected</th>\n",
              "      <th>everything_ordered</th>\n",
              "      <th>good_price</th>\n",
              "      <th>satisfied_courier</th>\n",
              "      <th>app_easy</th>\n",
              "    </tr>\n",
              "  </thead>\n",
              "  <tbody>\n",
              "    <tr>\n",
              "      <th>count</th>\n",
              "      <td>126.000000</td>\n",
              "      <td>126.000000</td>\n",
              "      <td>126.000000</td>\n",
              "      <td>126.000000</td>\n",
              "      <td>126.000000</td>\n",
              "      <td>126.000000</td>\n",
              "      <td>126.000000</td>\n",
              "    </tr>\n",
              "    <tr>\n",
              "      <th>mean</th>\n",
              "      <td>0.547619</td>\n",
              "      <td>4.333333</td>\n",
              "      <td>2.531746</td>\n",
              "      <td>3.309524</td>\n",
              "      <td>3.746032</td>\n",
              "      <td>3.650794</td>\n",
              "      <td>4.253968</td>\n",
              "    </tr>\n",
              "    <tr>\n",
              "      <th>std</th>\n",
              "      <td>0.499714</td>\n",
              "      <td>0.800000</td>\n",
              "      <td>1.114892</td>\n",
              "      <td>1.023440</td>\n",
              "      <td>0.875776</td>\n",
              "      <td>1.147641</td>\n",
              "      <td>0.809311</td>\n",
              "    </tr>\n",
              "    <tr>\n",
              "      <th>min</th>\n",
              "      <td>0.000000</td>\n",
              "      <td>1.000000</td>\n",
              "      <td>1.000000</td>\n",
              "      <td>1.000000</td>\n",
              "      <td>1.000000</td>\n",
              "      <td>1.000000</td>\n",
              "      <td>1.000000</td>\n",
              "    </tr>\n",
              "    <tr>\n",
              "      <th>25%</th>\n",
              "      <td>0.000000</td>\n",
              "      <td>4.000000</td>\n",
              "      <td>2.000000</td>\n",
              "      <td>3.000000</td>\n",
              "      <td>3.000000</td>\n",
              "      <td>3.000000</td>\n",
              "      <td>4.000000</td>\n",
              "    </tr>\n",
              "    <tr>\n",
              "      <th>50%</th>\n",
              "      <td>1.000000</td>\n",
              "      <td>5.000000</td>\n",
              "      <td>3.000000</td>\n",
              "      <td>3.000000</td>\n",
              "      <td>4.000000</td>\n",
              "      <td>4.000000</td>\n",
              "      <td>4.000000</td>\n",
              "    </tr>\n",
              "    <tr>\n",
              "      <th>75%</th>\n",
              "      <td>1.000000</td>\n",
              "      <td>5.000000</td>\n",
              "      <td>3.000000</td>\n",
              "      <td>4.000000</td>\n",
              "      <td>4.000000</td>\n",
              "      <td>4.000000</td>\n",
              "      <td>5.000000</td>\n",
              "    </tr>\n",
              "    <tr>\n",
              "      <th>max</th>\n",
              "      <td>1.000000</td>\n",
              "      <td>5.000000</td>\n",
              "      <td>5.000000</td>\n",
              "      <td>5.000000</td>\n",
              "      <td>5.000000</td>\n",
              "      <td>5.000000</td>\n",
              "      <td>5.000000</td>\n",
              "    </tr>\n",
              "  </tbody>\n",
              "</table>\n",
              "</div>"
            ],
            "text/plain": [
              "            happy     on_time  ...  satisfied_courier    app_easy\n",
              "count  126.000000  126.000000  ...         126.000000  126.000000\n",
              "mean     0.547619    4.333333  ...           3.650794    4.253968\n",
              "std      0.499714    0.800000  ...           1.147641    0.809311\n",
              "min      0.000000    1.000000  ...           1.000000    1.000000\n",
              "25%      0.000000    4.000000  ...           3.000000    4.000000\n",
              "50%      1.000000    5.000000  ...           4.000000    4.000000\n",
              "75%      1.000000    5.000000  ...           4.000000    5.000000\n",
              "max      1.000000    5.000000  ...           5.000000    5.000000\n",
              "\n",
              "[8 rows x 7 columns]"
            ]
          },
          "metadata": {
            "tags": []
          },
          "execution_count": 5
        }
      ]
    },
    {
      "cell_type": "code",
      "metadata": {
        "id": "xwqAU8wIkhWS",
        "colab_type": "code",
        "colab": {
          "base_uri": "https://localhost:8080/",
          "height": 626
        },
        "outputId": "12809fca-09df-459a-ccc8-4a14c3e7bbcb"
      },
      "source": [
        "# check distribution between classes\n",
        "classes = ['happy','unhappy']\n",
        "unique, class_counts = np.unique(df['happy'], return_counts=True)\n",
        "working_df = df.drop('happy', axis=1)\n",
        "means = working_df.describe(include='all').loc['mean']\n",
        "stds = working_df.describe(include='all').loc['std']\n",
        "counts = working_df.describe(include='all').loc['count']\n",
        "\n",
        "labels = means.keys()\n",
        "\n",
        "x = working_df.columns\n",
        "width = 0.35  # the width of the bars\n",
        "\n",
        "\n",
        "fig, ax = plt.subplots(2, 2, figsize=(20,10))\n",
        "\n",
        "# display feature means\n",
        "ax[0][0].bar(x, means, width)\n",
        "ax[0][0].set_xticks(x)\n",
        "ax[0][0].set_title('Feature Means')\n",
        "\n",
        "# display standard deviations\n",
        "ax[0][1].bar(x, stds, width)\n",
        "ax[0][1].set_xticks(x)\n",
        "ax[0][1].set_title('Feature Standard Deviations')\n",
        "\n",
        "# display counts per feature\n",
        "ax[1][0].bar(x, counts, width)\n",
        "ax[1][0].set_xticks(x)\n",
        "ax[1][0].set_title('Feature Row Counts')\n",
        "\n",
        "# display class distribution\n",
        "ax[1][1].bar(unique, class_counts, width)\n",
        "ax[1][1].set_xticks(np.arange(2))\n",
        "ax[1][1].set_xticklabels(classes)\n",
        "ax[1][1].set_title('Class Distributions')\n",
        "\n"
      ],
      "execution_count": null,
      "outputs": [
        {
          "output_type": "execute_result",
          "data": {
            "text/plain": [
              "Text(0.5, 1.0, 'Class Distributions')"
            ]
          },
          "metadata": {
            "tags": []
          },
          "execution_count": 6
        },
        {
          "output_type": "display_data",
          "data": {
            "image/png": "[encoded data removed]",
            "text/plain": [
              "<Figure size 1440x720 with 4 Axes>"
            ]
          },
          "metadata": {
            "tags": [],
            "needs_background": "light"
          }
        }
      ]
    },
    {
      "cell_type": "code",
      "metadata": {
        "id": "Q0hdPuBNqsqm",
        "colab_type": "code",
        "colab": {
          "base_uri": "https://localhost:8080/",
          "height": 409
        },
        "outputId": "94f62a9e-22ac-40ba-c6d6-32ca3df0997a"
      },
      "source": [
        "# split dataset into training, validation, and test sets\n",
        "X = df.drop('happy', axis=1)\n",
        "y = df['happy']\n",
        "\n",
        "# assign a validation set and save for model validation at the end after model selection\n",
        "X_train, X_test, y_train, y_test = train_test_split(X, y, test_size=.1, random_state=random_state)\n",
        "\n",
        "# stratify remaining data into train and test sets\n",
        "# stratifying data ensures that the datasets are balanced as possible\n",
        "sss = StratifiedShuffleSplit(n_splits=1, test_size=.1, random_state=random_state)\n",
        "\n",
        "for train_index, test_index in sss.split(X_train, y_train):\n",
        "  X_train, X_val = X.loc[train_index], X.loc[test_index]\n",
        "  y_train, y_val = y.loc[train_index], y.loc[test_index]\n",
        "\n",
        "print(\"{} samples in training set\".format(len(X_train)))\n",
        "print(\"{} samples in test set\".format(len(X_test)))\n",
        "print(\"{} samples in validation set\".format(len(X_val)))\n",
        "\n",
        "train_unique, train_class_counts = np.unique(y_train, return_counts=True)\n",
        "test_unique, test_class_counts = np.unique(y_test, return_counts=True)\n",
        "val_unique, val_class_counts = np.unique(y_val, return_counts=True)\n",
        "\n",
        "fig, (ax1, ax2, ax3) = plt.subplots(1,3, figsize=(20,5))\n",
        "\n",
        "# display train class distribution\n",
        "ax1.bar(train_unique, train_class_counts, width)\n",
        "ax1.set_xticks(np.arange(2))\n",
        "ax1.set_xticklabels(classes)\n",
        "ax1.set_title('Train Class Distributions')\n",
        "\n",
        "# display val class distribution\n",
        "ax2.bar(test_unique, test_class_counts, width)\n",
        "ax2.set_xticks(np.arange(2))\n",
        "ax2.set_xticklabels(classes)\n",
        "ax2.set_title('Val Class Distributions')\n",
        "\n",
        "# display test class distribution\n",
        "ax3.bar(val_unique, val_class_counts, width)\n",
        "ax3.set_xticks(np.arange(2))\n",
        "ax3.set_xticklabels(classes)\n",
        "ax3.set_title('Test Class Distributions')"
      ],
      "execution_count": null,
      "outputs": [
        {
          "output_type": "stream",
          "text": [
            "101 samples in training set\n",
            "13 samples in test set\n",
            "12 samples in validation set\n"
          ],
          "name": "stdout"
        },
        {
          "output_type": "execute_result",
          "data": {
            "text/plain": [
              "Text(0.5, 1.0, 'Test Class Distributions')"
            ]
          },
          "metadata": {
            "tags": []
          },
          "execution_count": 7
        },
        {
          "output_type": "display_data",
          "data": {
            "image/png": "[encoded data removed]",
            "text/plain": [
              "<Figure size 1440x360 with 3 Axes>"
            ]
          },
          "metadata": {
            "tags": [],
            "needs_background": "light"
          }
        }
      ]
    },
    {
      "cell_type": "markdown",
      "metadata": {
        "id": "rHpHdls0DKxy",
        "colab_type": "text"
      },
      "source": [
        "# Model Fitting and Selection\n"
      ]
    },
    {
      "cell_type": "markdown",
      "metadata": {
        "id": "UAuTGobO8Zeh",
        "colab_type": "text"
      },
      "source": [
        "First we set up a helper function to allow for grid search of hyperparameters on whatever classifier we throw in.\n",
        "\n",
        "Using the Holdout grid search methodology, we are able to many different combinations of hyperparameters on our models, while saving the best performing one for further validation using our validation set.\n",
        "\n",
        "For evaluation we are using F1-scores as shown by the equation below:\n",
        "\n",
        "![Equation for calculating F1 Score, Precision, and Recall.](https://miro.medium.com/max/534/1*EXa-_699fntpUoRjZeqAFQ.jpeg)\n",
        "\n",
        "Two metrics used to calculate F1 scores are precision and recall. \n",
        "\n",
        "As shown above, precision is calcuated by taking the total amount of true positives, items classified correctly, divided by sum of the total amount of true positives and false positives, or items that were incorrectly labeled positive or in this case happy.\n",
        "\n",
        "Recall is calculated by taking the total number of true positives divided by the sum of the total amount of true positives and False Negatives, in this case customers that were misclassified as being unhappy.\n"
      ]
    },
    {
      "cell_type": "code",
      "metadata": {
        "id": "NfcUJ0-UBjU9",
        "colab_type": "code",
        "colab": {}
      },
      "source": [
        "def holdout_grid_search(clf, X_train, y_train, X_test, y_test, hyperparams, fixed_hyperparams={}, verbose=True):\n",
        "    '''\n",
        "    Conduct hyperparameter grid search on hold out validation set. Use holdout validation.\n",
        "    Hyperparameters are input as a dictionary mapping each hyperparameter name to the\n",
        "    range of values they should iterate over. Use the cindex function as your evaluation\n",
        "    function.\n",
        "\n",
        "    Input:\n",
        "        clf: sklearn classifier\n",
        "        X_train_hp (dataframe): dataframe for training set input variables\n",
        "        y_train_hp (dataframe): dataframe for training set targets\n",
        "        X_val_hp (dataframe): dataframe for validation set input variables\n",
        "        y_val_hp (dataframe): dataframe for validation set targets\n",
        "        hyperparams (dict): hyperparameter dictionary mapping hyperparameter\n",
        "                            names to range of values for grid search\n",
        "        fixed_hyperparams (dict): dictionary of fixed hyperparameters that\n",
        "                                  are not included in the grid search\n",
        "\n",
        "    Output:\n",
        "        best_estimator (sklearn classifier): fitted sklearn classifier with best performance on\n",
        "                                             validation set\n",
        "        best_hyperparams (dict): hyperparameter dictionary mapping hyperparameter\n",
        "                                 names to values in best_estimator\n",
        "    '''\n",
        "    \n",
        "    best_estimator = None\n",
        "    best_hyperparams = {}\n",
        "    \n",
        "    # hold best running score\n",
        "    best_score = 0.0\n",
        "\n",
        "    # get list of param values\n",
        "    lists = hyperparams.values()\n",
        "    \n",
        "    # get all param combinations\n",
        "    param_combinations = list(itertools.product(*lists))\n",
        "    total_param_combinations = len(param_combinations)\n",
        "\n",
        "\n",
        "    # iterate through param combinations\n",
        "    for i, params in enumerate(param_combinations, 1):\n",
        "\n",
        "        # fill param dict with params\n",
        "        param_dict = {}\n",
        "        for param_index, param_name in enumerate(hyperparams):\n",
        "            param_dict[param_name] = params[param_index]\n",
        "            \n",
        "        # create estimator with specified params\n",
        "        estimator = clf(**param_dict, **fixed_hyperparams)\n",
        "\n",
        "        # fit estimator\n",
        "        estimator.fit(X_train, y_train)\n",
        "        \n",
        "        # score the test set\n",
        "        y_preds = estimator.predict(X_test)\n",
        "        f_score = f1_score(y_test, y_preds)\n",
        "\n",
        "\n",
        "        # if new high score, update high score, best estimator\n",
        "        # and best params \n",
        "        if f_score >= best_score:\n",
        "                if (verbose):\n",
        "                  print(f'New Best Score: {f_score}\\n')\n",
        "                  print(\"{}\\n\".format(param_dict))\n",
        "                best_score = f_score\n",
        "                best_estimator = estimator\n",
        "                best_hyperparams = param_dict\n",
        "\n",
        "    # add fixed hyperparamters to best combination of variable hyperparameters\n",
        "    best_hyperparams.update(fixed_hyperparams)\n",
        "    \n",
        "    return best_estimator, best_hyperparams"
      ],
      "execution_count": null,
      "outputs": []
    },
    {
      "cell_type": "markdown",
      "metadata": {
        "id": "yARszIIu8jZl",
        "colab_type": "text"
      },
      "source": [
        "## Logistic Regression Classifier\n",
        "\n",
        "First we will try using a simple logistic regression classifier to find a baseline level model.\n",
        "\n",
        "Logistic regression is commonly used as a binary classification algorithm, but can be expanded for multiple classes. \n",
        "\n",
        "What is important here is the algorithm will provide a probability on which class the item belong's to, or in this case whether or not a customer is happy. After calculating the probabilities, the model returns the class with the higher probability score."
      ]
    },
    {
      "cell_type": "code",
      "metadata": {
        "id": "-xupRIVGWSwc",
        "colab_type": "code",
        "colab": {}
      },
      "source": [
        "def logistic_regression_grid_search(X_train, y_train, X_test, y_test, verbose=True):\n",
        "\n",
        "    hyperparams = {\n",
        "        # Inverse Regularization Strength\n",
        "        'C': [0.001, 0.01, 0.1, 1.0, 10.0],\n",
        "\n",
        "        # determine class weights for classifier, default is None\n",
        "        # balanced automatically adjusts weights\n",
        "        'class_weight': [None, 'balanced'],\n",
        "\n",
        "        'solver': ['liblinear', 'lbfgs']\n",
        "    }\n",
        "\n",
        "    \n",
        "    fixed_hyperparams = {\n",
        "        'random_state': 42,\n",
        "    }\n",
        "    \n",
        "    logr = LogisticRegression\n",
        "\n",
        "    best_logr, best_hyperparams = holdout_grid_search(logr, X_train, y_train,\n",
        "                                                    X_test, y_test, hyperparams,\n",
        "                                                    fixed_hyperparams, verbose)\n",
        "\n",
        "    print(f\"Best hyperparameters:\\n{best_hyperparams}\")\n",
        "\n",
        "    # score the train and test sets\n",
        "    y_train_preds = best_logr.predict(X_train)\n",
        "    f_score_train_best = f1_score(y_train, y_train_preds)\n",
        "    print(f\"Train Score: {f_score_train_best}\")\n",
        "\n",
        "    y_test_preds = best_logr.predict(X_test)\n",
        "    f_score_test_best = f1_score(y_test, y_test_preds)\n",
        "    print(f\"Test Score: {f_score_test_best}\")\n",
        "    \n",
        "    # add fixed hyperparamters to best combination of variable hyperparameters\n",
        "    best_hyperparams.update(fixed_hyperparams)\n",
        "    \n",
        "    return best_logr, best_hyperparams, f_score_test_best"
      ],
      "execution_count": null,
      "outputs": []
    },
    {
      "cell_type": "code",
      "metadata": {
        "id": "xVgZlthQXuhR",
        "colab_type": "code",
        "colab": {
          "base_uri": "https://localhost:8080/",
          "height": 381
        },
        "outputId": "b636bf4a-3dcf-4dca-e56d-cb36a6e2b46f"
      },
      "source": [
        "best_logr, best_hyperparams, best_logr_score = logistic_regression_grid_search(X_train, y_train, X_val, y_val)"
      ],
      "execution_count": null,
      "outputs": [
        {
          "output_type": "stream",
          "text": [
            "New Best Score: 0.7368421052631579\n",
            "\n",
            "{'C': 0.001, 'class_weight': None, 'solver': 'liblinear'}\n",
            "\n",
            "New Best Score: 0.7368421052631579\n",
            "\n",
            "{'C': 0.001, 'class_weight': None, 'solver': 'lbfgs'}\n",
            "\n",
            "New Best Score: 0.7368421052631579\n",
            "\n",
            "{'C': 0.001, 'class_weight': 'balanced', 'solver': 'liblinear'}\n",
            "\n",
            "New Best Score: 0.7368421052631579\n",
            "\n",
            "{'C': 0.01, 'class_weight': None, 'solver': 'liblinear'}\n",
            "\n",
            "Best hyperparameters:\n",
            "{'C': 0.01, 'class_weight': None, 'solver': 'liblinear', 'random_state': 42}\n",
            "Train Score: 0.7142857142857143\n",
            "Test Score: 0.7368421052631579\n"
          ],
          "name": "stdout"
        }
      ]
    },
    {
      "cell_type": "markdown",
      "metadata": {
        "id": "17pD5UBh21e-",
        "colab_type": "text"
      },
      "source": [
        "It looks like the best performing logistic regression model is only providing a F1 Score of .73. Let's see if we can use more complicated models to get better performance."
      ]
    },
    {
      "cell_type": "markdown",
      "metadata": {
        "id": "Si5SHgL1VpC7",
        "colab_type": "text"
      },
      "source": [
        "## Support Vector Machine's (SVM)\n",
        "\n",
        "SVMs are a set of algorithms that are useful for classification, regression, and outlier detection. \n",
        "\n",
        "The SVM algorithm we will be testing here is SVC (Support Vector Classification)."
      ]
    },
    {
      "cell_type": "code",
      "metadata": {
        "colab_type": "code",
        "id": "mw-sq76Sb-AY",
        "colab": {}
      },
      "source": [
        "def SVC_grid_search(X_train, y_train, X_test, y_test, verbose=True):\n",
        "\n",
        "    hyperparams = {\n",
        "        # Inverse Regularization Strength\n",
        "        'C': [0.001, 0.01, 0.1, 1.0, 10.0],\n",
        "\n",
        "        # kernel to be used in algorithm\n",
        "        'kernel': {'linear', 'poly', 'rbf', 'sigmoid'}\n",
        "    }\n",
        "\n",
        "    \n",
        "    fixed_hyperparams = {\n",
        "        'random_state': random_state,\n",
        "    }\n",
        "    \n",
        "    svc = svm.SVC\n",
        "\n",
        "    best_svc, best_hyperparams = holdout_grid_search(svc, X_train, y_train,\n",
        "                                                    X_test, y_test, hyperparams,\n",
        "                                                    fixed_hyperparams, verbose)\n",
        "\n",
        "    print(f\"Best hyperparameters:\\n{best_hyperparams}\")\n",
        "\n",
        "    # score the train and test sets\n",
        "    y_train_preds = best_svc.predict(X_train)\n",
        "    f_score_train_best = f1_score(y_train, y_train_preds)\n",
        "    print(f\"Train Score: {f_score_train_best}\")\n",
        "\n",
        "    y_test_preds = best_svc.predict(X_test)\n",
        "    f_score_test_best = f1_score(y_test, y_test_preds)\n",
        "    print(f\"Test Score: {f_score_test_best}\")\n",
        "    \n",
        "    # add fixed hyperparamters to best combination of variable hyperparameters\n",
        "    best_hyperparams.update(fixed_hyperparams)\n",
        "    \n",
        "    return best_svc, best_hyperparams, f_score_test_best"
      ],
      "execution_count": null,
      "outputs": []
    },
    {
      "cell_type": "code",
      "metadata": {
        "id": "LB0cKSK3cSgf",
        "colab_type": "code",
        "colab": {
          "base_uri": "https://localhost:8080/",
          "height": 745
        },
        "outputId": "383785ec-bd80-40c9-eafa-347499441948"
      },
      "source": [
        "best_svc, best_hyperparams, best_svc_score = SVC_grid_search(X_train, y_train, X_val, y_val)"
      ],
      "execution_count": null,
      "outputs": [
        {
          "output_type": "stream",
          "text": [
            "New Best Score: 0.7368421052631579\n",
            "\n",
            "{'C': 0.001, 'kernel': 'sigmoid'}\n",
            "\n",
            "New Best Score: 0.7368421052631579\n",
            "\n",
            "{'C': 0.001, 'kernel': 'linear'}\n",
            "\n",
            "New Best Score: 0.7368421052631579\n",
            "\n",
            "{'C': 0.001, 'kernel': 'rbf'}\n",
            "\n",
            "New Best Score: 0.7368421052631579\n",
            "\n",
            "{'C': 0.01, 'kernel': 'sigmoid'}\n",
            "\n",
            "New Best Score: 0.7368421052631579\n",
            "\n",
            "{'C': 0.01, 'kernel': 'rbf'}\n",
            "\n",
            "New Best Score: 0.7368421052631579\n",
            "\n",
            "{'C': 0.1, 'kernel': 'sigmoid'}\n",
            "\n",
            "New Best Score: 0.7368421052631579\n",
            "\n",
            "{'C': 0.1, 'kernel': 'rbf'}\n",
            "\n",
            "New Best Score: 0.7368421052631579\n",
            "\n",
            "{'C': 1.0, 'kernel': 'sigmoid'}\n",
            "\n",
            "New Best Score: 0.7368421052631579\n",
            "\n",
            "{'C': 10.0, 'kernel': 'sigmoid'}\n",
            "\n",
            "Best hyperparameters:\n",
            "{'C': 10.0, 'kernel': 'sigmoid', 'random_state': 42}\n",
            "Train Score: 0.7051282051282052\n",
            "Test Score: 0.7368421052631579\n"
          ],
          "name": "stdout"
        }
      ]
    },
    {
      "cell_type": "markdown",
      "metadata": {
        "id": "s1SOiB_3c_wL",
        "colab_type": "text"
      },
      "source": [
        "It looks like the best performing SVC model is only providing a F1 Score of .73. Let's see if we can use more complicated models to get better performance.\n"
      ]
    },
    {
      "cell_type": "markdown",
      "metadata": {
        "id": "fxCM6gPjdP_A",
        "colab_type": "text"
      },
      "source": [
        "## Guassian Naive Bayes\n",
        "\n",
        "Next we will try the Gaussian Naive Bayes algorithm. This implements the Bayes algorithm and assumes that all features are independent of each other. \n",
        "\n",
        "If this proves to be useful, we can re-train the algorithm down the line with partial fit to avoid having to re-train the entire thing."
      ]
    },
    {
      "cell_type": "code",
      "metadata": {
        "id": "mvRwUounf79Q",
        "colab_type": "code",
        "colab": {}
      },
      "source": [
        "def GNB_grid_search(X_train, y_train, X_test, y_test, verbose=True):\n",
        "\n",
        "    hyperparams = {\n",
        "        # Inverse Regularization Strength\n",
        "        'var_smoothing': [1e-9, 1e-7, 1e-5, 1e-3, 1e-1, 1],\n",
        "\n",
        "    }\n",
        "\n",
        "    \n",
        "    fixed_hyperparams = {\n",
        "        \n",
        "    }\n",
        "    \n",
        "    gnb = GaussianNB\n",
        "\n",
        "    best_gnb, best_hyperparams = holdout_grid_search(gnb, X_train, y_train,\n",
        "                                                    X_test, y_test, hyperparams,\n",
        "                                                    fixed_hyperparams, verbose)\n",
        "\n",
        "    print(f\"Best hyperparameters:\\n{best_hyperparams}\")\n",
        "\n",
        "    \n",
        "    # score the train and test sets\n",
        "    y_train_preds = best_gnb.predict(X_train)\n",
        "    f_score_train_best = f1_score(y_train, y_train_preds)\n",
        "    print(f\"Train Score: {f_score_train_best}\")\n",
        "\n",
        "    y_test_preds = best_gnb.predict(X_test)\n",
        "    f_score_test_best = f1_score(y_test, y_test_preds)\n",
        "    print(f\"Test Score: {f_score_test_best}\")\n",
        "    \n",
        "    # add fixed hyperparamters to best combination of variable hyperparameters\n",
        "    best_hyperparams.update(fixed_hyperparams)\n",
        "    \n",
        "    return best_gnb, best_hyperparams, f_score_test_best"
      ],
      "execution_count": null,
      "outputs": []
    },
    {
      "cell_type": "code",
      "metadata": {
        "id": "SiOnYXkcgHdC",
        "colab_type": "code",
        "colab": {
          "base_uri": "https://localhost:8080/",
          "height": 454
        },
        "outputId": "b92f4e5a-88d0-491d-e586-9cabe9f1e515"
      },
      "source": [
        "best_gnb, best_hyperparams, best_svc_score = GNB_grid_search(X_train, y_train, X_val, y_val)"
      ],
      "execution_count": null,
      "outputs": [
        {
          "output_type": "stream",
          "text": [
            "New Best Score: 0.5333333333333333\n",
            "\n",
            "{'var_smoothing': 1e-09}\n",
            "\n",
            "New Best Score: 0.5333333333333333\n",
            "\n",
            "{'var_smoothing': 1e-07}\n",
            "\n",
            "New Best Score: 0.5333333333333333\n",
            "\n",
            "{'var_smoothing': 1e-05}\n",
            "\n",
            "New Best Score: 0.5333333333333333\n",
            "\n",
            "{'var_smoothing': 0.001}\n",
            "\n",
            "New Best Score: 0.5333333333333333\n",
            "\n",
            "{'var_smoothing': 0.1}\n",
            "\n",
            "Best hyperparameters:\n",
            "{'var_smoothing': 0.1}\n",
            "Train Score: 0.6779661016949152\n",
            "Test Score: 0.5333333333333333\n"
          ],
          "name": "stdout"
        }
      ]
    },
    {
      "cell_type": "markdown",
      "metadata": {
        "id": "F0x1EWI1hSOD",
        "colab_type": "text"
      },
      "source": [
        "Looks like this model did not do too great with an F1 score of .53.\n",
        "\n"
      ]
    },
    {
      "cell_type": "markdown",
      "metadata": {
        "id": "EJRx7v8r84Jn",
        "colab_type": "text"
      },
      "source": [
        "## Random Forest Classifier\n",
        "\n",
        "Next we will try a random forest classifier to see if we can get better performance. Random forest classifiers are an esemble method algorithm. They work by fitting a set amount of decision tree's and averaging the result from them. Using the random forest method generally helps improve accuracty and helps manage over-fitting, which is a common issue with using a single decision tree. \n",
        "\n",
        "The reason we are trying this one last is because this algorithm typically uses the most resources due to the robustness of the algorithm. If we can get similar or better performance with a simpler algorithm, it would be a better to use in the long run when the dataset becomes larger.\n"
      ]
    },
    {
      "cell_type": "code",
      "metadata": {
        "id": "vDMTl6BjAECT",
        "colab_type": "code",
        "colab": {}
      },
      "source": [
        "def random_forest_grid_search(X_train, y_train, X_test, y_test, verbose=True):\n",
        "\n",
        "    # Define ranges for the chosen random forest hyperparameters \n",
        "    hyperparams = {\n",
        "        # how many trees should be in the forest (int)\n",
        "        'n_estimators': [2,5,10,25,50],\n",
        "\n",
        "        # the maximum depth of trees in the forest (int)\n",
        "        'max_depth': [1,2,5,8],\n",
        "        \n",
        "        # the minimum number of samples in a leaf as a fraction\n",
        "        'min_samples_leaf': [.5,1,2],\n",
        "\n",
        "        # the minimum number of samples to split an internal node\n",
        "        'min_samples_split': [.5,2,3,4]\n",
        "    }\n",
        "\n",
        "    \n",
        "    fixed_hyperparams = {\n",
        "        'random_state': random_state,\n",
        "    }\n",
        "    \n",
        "    rf = RandomForestClassifier\n",
        "\n",
        "    best_rf, best_hyperparams = holdout_grid_search(rf, X_train, y_train,\n",
        "                                                    X_test, y_test, hyperparams,\n",
        "                                                    fixed_hyperparams, verbose)\n",
        "\n",
        "    print(f\"Best hyperparameters:\\n{best_hyperparams}\")\n",
        "\n",
        "            \n",
        "    # score the train and test sets\n",
        "    y_train_preds = best_rf.predict(X_train)\n",
        "    f_score_train_best = f1_score(y_train, y_train_preds)\n",
        "    print(f\"Train Score: {f_score_train_best}\")\n",
        "\n",
        "    y_test_preds = best_rf.predict(X_test)\n",
        "    f_score_test_best = f1_score(y_test, y_test_preds)\n",
        "    print(f\"Train Score: {f_score_test_best}\")\n",
        "\n",
        "    # add fixed hyperparamters to best combination of variable hyperparameters\n",
        "    best_hyperparams.update(fixed_hyperparams)\n",
        "    \n",
        "    return best_rf, best_hyperparams, f_score_test_best"
      ],
      "execution_count": null,
      "outputs": []
    },
    {
      "cell_type": "code",
      "metadata": {
        "id": "Yd7GHL_uqqZV",
        "colab_type": "code",
        "colab": {
          "base_uri": "https://localhost:8080/",
          "height": 1000
        },
        "outputId": "2edd6852-fa05-47fd-97fa-5af7549996c4"
      },
      "source": [
        "best_rf, best_hyperparams, best_rf_score = random_forest_grid_search(X_train, y_train, X_val, y_val)"
      ],
      "execution_count": null,
      "outputs": [
        {
          "output_type": "stream",
          "text": [
            "New Best Score: 0.7368421052631579\n",
            "\n",
            "{'n_estimators': 2, 'max_depth': 1, 'min_samples_leaf': 0.5, 'min_samples_split': 0.5}\n",
            "\n",
            "New Best Score: 0.7368421052631579\n",
            "\n",
            "{'n_estimators': 2, 'max_depth': 1, 'min_samples_leaf': 0.5, 'min_samples_split': 2}\n",
            "\n",
            "New Best Score: 0.7368421052631579\n",
            "\n",
            "{'n_estimators': 2, 'max_depth': 1, 'min_samples_leaf': 0.5, 'min_samples_split': 3}\n",
            "\n",
            "New Best Score: 0.7368421052631579\n",
            "\n",
            "{'n_estimators': 2, 'max_depth': 1, 'min_samples_leaf': 0.5, 'min_samples_split': 4}\n",
            "\n",
            "New Best Score: 0.75\n",
            "\n",
            "{'n_estimators': 2, 'max_depth': 1, 'min_samples_leaf': 1, 'min_samples_split': 0.5}\n",
            "\n",
            "New Best Score: 0.75\n",
            "\n",
            "{'n_estimators': 2, 'max_depth': 1, 'min_samples_leaf': 1, 'min_samples_split': 2}\n",
            "\n",
            "New Best Score: 0.75\n",
            "\n",
            "{'n_estimators': 2, 'max_depth': 1, 'min_samples_leaf': 1, 'min_samples_split': 3}\n",
            "\n",
            "New Best Score: 0.75\n",
            "\n",
            "{'n_estimators': 2, 'max_depth': 1, 'min_samples_leaf': 1, 'min_samples_split': 4}\n",
            "\n",
            "New Best Score: 0.75\n",
            "\n",
            "{'n_estimators': 2, 'max_depth': 1, 'min_samples_leaf': 2, 'min_samples_split': 0.5}\n",
            "\n",
            "New Best Score: 0.75\n",
            "\n",
            "{'n_estimators': 2, 'max_depth': 1, 'min_samples_leaf': 2, 'min_samples_split': 2}\n",
            "\n",
            "New Best Score: 0.75\n",
            "\n",
            "{'n_estimators': 2, 'max_depth': 1, 'min_samples_leaf': 2, 'min_samples_split': 3}\n",
            "\n",
            "New Best Score: 0.75\n",
            "\n",
            "{'n_estimators': 2, 'max_depth': 1, 'min_samples_leaf': 2, 'min_samples_split': 4}\n",
            "\n",
            "New Best Score: 0.75\n",
            "\n",
            "{'n_estimators': 2, 'max_depth': 2, 'min_samples_leaf': 1, 'min_samples_split': 0.5}\n",
            "\n",
            "New Best Score: 0.75\n",
            "\n",
            "{'n_estimators': 2, 'max_depth': 2, 'min_samples_leaf': 1, 'min_samples_split': 2}\n",
            "\n",
            "New Best Score: 0.75\n",
            "\n",
            "{'n_estimators': 2, 'max_depth': 2, 'min_samples_leaf': 1, 'min_samples_split': 3}\n",
            "\n",
            "New Best Score: 0.75\n",
            "\n",
            "{'n_estimators': 2, 'max_depth': 2, 'min_samples_leaf': 1, 'min_samples_split': 4}\n",
            "\n",
            "New Best Score: 0.75\n",
            "\n",
            "{'n_estimators': 2, 'max_depth': 2, 'min_samples_leaf': 2, 'min_samples_split': 0.5}\n",
            "\n",
            "New Best Score: 0.75\n",
            "\n",
            "{'n_estimators': 2, 'max_depth': 2, 'min_samples_leaf': 2, 'min_samples_split': 2}\n",
            "\n",
            "New Best Score: 0.75\n",
            "\n",
            "{'n_estimators': 2, 'max_depth': 2, 'min_samples_leaf': 2, 'min_samples_split': 3}\n",
            "\n",
            "New Best Score: 0.75\n",
            "\n",
            "{'n_estimators': 2, 'max_depth': 2, 'min_samples_leaf': 2, 'min_samples_split': 4}\n",
            "\n",
            "New Best Score: 0.75\n",
            "\n",
            "{'n_estimators': 2, 'max_depth': 5, 'min_samples_leaf': 1, 'min_samples_split': 0.5}\n",
            "\n",
            "New Best Score: 0.7692307692307692\n",
            "\n",
            "{'n_estimators': 2, 'max_depth': 5, 'min_samples_leaf': 1, 'min_samples_split': 2}\n",
            "\n",
            "New Best Score: 0.7692307692307692\n",
            "\n",
            "{'n_estimators': 2, 'max_depth': 5, 'min_samples_leaf': 1, 'min_samples_split': 3}\n",
            "\n",
            "New Best Score: 0.7692307692307692\n",
            "\n",
            "{'n_estimators': 2, 'max_depth': 5, 'min_samples_leaf': 1, 'min_samples_split': 4}\n",
            "\n",
            "New Best Score: 0.8333333333333333\n",
            "\n",
            "{'n_estimators': 2, 'max_depth': 8, 'min_samples_leaf': 1, 'min_samples_split': 2}\n",
            "\n",
            "Best hyperparameters:\n",
            "{'n_estimators': 2, 'max_depth': 8, 'min_samples_leaf': 1, 'min_samples_split': 2, 'random_state': 42}\n",
            "Train Score: 0.8269230769230769\n",
            "Train Score: 0.8333333333333333\n"
          ],
          "name": "stdout"
        }
      ]
    },
    {
      "cell_type": "markdown",
      "metadata": {
        "id": "4Hzln_7VVJxZ",
        "colab_type": "text"
      },
      "source": [
        "With raw data and a grid search the best F1 score we could get is .83 on the test set. \n",
        "\n",
        "Let's dig deeper into the data and see if we can leverage it any better.\n"
      ]
    },
    {
      "cell_type": "code",
      "metadata": {
        "id": "hINl94smk2CY",
        "colab_type": "code",
        "colab": {
          "base_uri": "https://localhost:8080/",
          "height": 500
        },
        "outputId": "2ad12d52-6044-4d48-a276-227e9288ec21"
      },
      "source": [
        "feature_importances = best_rf.feature_importances_\n",
        "features = X_train.columns.tolist()\n",
        "\n",
        "# summarize feature importance\n",
        "for i,v in enumerate(feature_importances):\n",
        "\tprint('Feature: {}, Score: {}'.format(features[i],v))\n",
        " \n",
        "# plot feature importance\n",
        "plt.figure(figsize=(12,6))\n",
        "plt.title('Feature Importances')\n",
        "plt.bar(features, feature_importances)\n",
        "\n",
        "plt.show()"
      ],
      "execution_count": null,
      "outputs": [
        {
          "output_type": "stream",
          "text": [
            "Feature: on_time, Score: 0.1979790067368707\n",
            "Feature: as_expected, Score: 0.11662434940877317\n",
            "Feature: everything_ordered, Score: 0.14148288231829798\n",
            "Feature: good_price, Score: 0.18348392557989657\n",
            "Feature: satisfied_courier, Score: 0.19476967671293627\n",
            "Feature: app_easy, Score: 0.16566015924322536\n"
          ],
          "name": "stdout"
        },
        {
          "output_type": "display_data",
          "data": {
            "image/png": "[encoded data removed]",
            "text/plain": [
              "<Figure size 864x432 with 1 Axes>"
            ]
          },
          "metadata": {
            "tags": [],
            "needs_background": "light"
          }
        }
      ]
    },
    {
      "cell_type": "markdown",
      "metadata": {
        "id": "GMx2RSRCiGJs",
        "colab_type": "text"
      },
      "source": [
        "The graph above shows the feature importances of each feature. This depicts how influential the feature was for the random forest to make a classification decision on a row. We can use this data to gain insight on what drives a customers decision, and if we can remove any to make the survey shorter.\n",
        "\n"
      ]
    },
    {
      "cell_type": "markdown",
      "metadata": {
        "id": "CgolPhF3iQPp",
        "colab_type": "text"
      },
      "source": [
        "## Evaluation\n",
        "\n",
        "Below we will take a look a how each model above performs on the validation sets that were set aside from the beggining. This will show how the model's perform on data they have not seen before. \n"
      ]
    },
    {
      "cell_type": "code",
      "metadata": {
        "id": "wv1ErKhGigfS",
        "colab_type": "code",
        "colab": {
          "base_uri": "https://localhost:8080/",
          "height": 168
        },
        "outputId": "894ccf13-c133-42aa-d396-bd8380aa49e9"
      },
      "source": [
        "clfs = [best_gnb, best_logr, best_rf, best_svc]\n",
        "classifier_labels = ['Gaussian Naive Bayes', 'Logistic Regression', 'Random Forest', 'Support Vector Classification']\n",
        "test_f1_scores = []\n",
        "\n",
        "for clf in clfs:\n",
        "  y_test_preds = clf.predict(X_test)\n",
        "  test_f1_score = f1_score(y_test, y_test_preds)\n",
        "  test_f1_scores.append(test_f1_score)\n",
        "\n",
        "\n",
        "test_df = pd.DataFrame(np.array(test_f1_scores), index=classifier_labels, columns=['F1 Score'])\n",
        "\n",
        "test_df.head()"
      ],
      "execution_count": null,
      "outputs": [
        {
          "output_type": "execute_result",
          "data": {
            "text/html": [
              "<div>\n",
              "<style scoped>\n",
              "    .dataframe tbody tr th:only-of-type {\n",
              "        vertical-align: middle;\n",
              "    }\n",
              "\n",
              "    .dataframe tbody tr th {\n",
              "        vertical-align: top;\n",
              "    }\n",
              "\n",
              "    .dataframe thead th {\n",
              "        text-align: right;\n",
              "    }\n",
              "</style>\n",
              "<table border=\"1\" class=\"dataframe\">\n",
              "  <thead>\n",
              "    <tr style=\"text-align: right;\">\n",
              "      <th></th>\n",
              "      <th>F1 Score</th>\n",
              "    </tr>\n",
              "  </thead>\n",
              "  <tbody>\n",
              "    <tr>\n",
              "      <th>Gaussian Naive Bayes</th>\n",
              "      <td>0.533333</td>\n",
              "    </tr>\n",
              "    <tr>\n",
              "      <th>Logistic Regression</th>\n",
              "      <td>0.555556</td>\n",
              "    </tr>\n",
              "    <tr>\n",
              "      <th>Random Forest</th>\n",
              "      <td>0.909091</td>\n",
              "    </tr>\n",
              "    <tr>\n",
              "      <th>Support Vector Classification</th>\n",
              "      <td>0.631579</td>\n",
              "    </tr>\n",
              "  </tbody>\n",
              "</table>\n",
              "</div>"
            ],
            "text/plain": [
              "                               F1 Score\n",
              "Gaussian Naive Bayes           0.533333\n",
              "Logistic Regression            0.555556\n",
              "Random Forest                  0.909091\n",
              "Support Vector Classification  0.631579"
            ]
          },
          "metadata": {
            "tags": []
          },
          "execution_count": 18
        }
      ]
    },
    {
      "cell_type": "markdown",
      "metadata": {
        "id": "KQPh_QZ8YLo0",
        "colab_type": "text"
      },
      "source": [
        "We can visualize these results using confusion matrices to see how each model predicted each class.\n",
        "\n",
        "A confusion matrix works by showing the true label on the Y-axis and the Predicted Label on the X-Axis. This allows us to see how many were guessed correctly per class and how many times the items were misclassified on other classes. This is especially useful if we have more than two classes to see not only how many are being misclassified, but how which class it is being misclassified as.\n",
        "\n"
      ]
    },
    {
      "cell_type": "code",
      "metadata": {
        "id": "_uCVwS6UWc4z",
        "colab_type": "code",
        "colab": {
          "base_uri": "https://localhost:8080/",
          "height": 465
        },
        "outputId": "51507247-48d6-43d7-d780-e06ef7d00503"
      },
      "source": [
        "# plot confusion matrices\n",
        "fig, ax = plt.subplots(1, 4, figsize=(20,3))\n",
        "\n",
        "# plot validation confusion matrices\n",
        "for clf, ax in zip(clfs, ax.flatten()):\n",
        "  plot_confusion_matrix(clf,\n",
        "                        X_val,\n",
        "                        y_val,\n",
        "                        ax=ax,\n",
        "                        cmap='Reds',\n",
        "                        display_labels=classes)\n",
        "  ax.title.set_text(\"{} performance on Val Set\".format(type(clf).__name__))\n",
        "\n",
        "fig2, ax2 = plt.subplots(1, 4, figsize=(20,3))\n",
        "\n",
        "# plot test set confusion matrices\n",
        "for clf, ax2 in zip(clfs, ax2.flatten()):\n",
        "  plot_confusion_matrix(clf,\n",
        "                      X_test,\n",
        "                      y_test,\n",
        "                      ax=ax2,\n",
        "                      cmap='Reds',\n",
        "                      display_labels=classes)\n",
        "  ax2.title.set_text(\"{} performance on Test Set\".format(type(clf).__name__))\n",
        "\n",
        "  \n",
        "plt.show()\n",
        "\n"
      ],
      "execution_count": null,
      "outputs": [
        {
          "output_type": "display_data",
          "data": {
            "image/png": "[encoded data removed]",
            "text/plain": [
              "<Figure size 1440x216 with 8 Axes>"
            ]
          },
          "metadata": {
            "tags": [],
            "needs_background": "light"
          }
        },
        {
          "output_type": "display_data",
          "data": {
            "image/png": "[encoded data removed]",
            "text/plain": [
              "<Figure size 1440x216 with 8 Axes>"
            ]
          },
          "metadata": {
            "tags": [],
            "needs_background": "light"
          }
        }
      ]
    },
    {
      "cell_type": "markdown",
      "metadata": {
        "id": "PBdd8sS7Vw7f",
        "colab_type": "text"
      },
      "source": [
        "By examining the results above we can see that the random forest classifier was the only model that was able to correctly learn from the training data. The rest of the models tend to have a bias towards guessing unhappy. This may be there being slightly more unhappy customers in the training set, and since the models were not able to learn the data, they tend to a focus on minimizing loss.\n",
        "\n",
        "After testing on the validation set, we see that the model's did not perform exactly the same. Other than the Gaussian naive Bayes model, the logistic regressor and the SVC did worse. Although it seems like those two models just always guess unhappy, they did not learn the data and the distributions of the test vs val data changed the results.\n",
        "\n",
        "Our real performer here is the Random Forest Classifer, being able to generalize well and only make 1 mistake by miscategorizing an unhappy customer as unhappy.\n",
        "\n",
        "This is a good start, but let's see if we can change up the metrics by removing some features and see if there's any more optimizations we can make."
      ]
    },
    {
      "cell_type": "markdown",
      "metadata": {
        "id": "c24XU83KAYql",
        "colab_type": "text"
      },
      "source": [
        "## Bonus(es):\n",
        "\n",
        "We are very interested in finding which questions/features are more important when predicting a customer’s happiness. Using a feature selection approach show us understand what is the minimal set of attributes/features that would preserve the most information about the problem while increasing predictability of the data we have. Is there any question that we can remove in our next survey?\n"
      ]
    },
    {
      "cell_type": "markdown",
      "metadata": {
        "id": "_4jZ2btSnMey",
        "colab_type": "text"
      },
      "source": [
        "Looks like some features, specifically on_time and app_easy are a lot more significant than features like everything_ordered or as_expected. <br/>\n",
        "\n",
        "Let's try removing them and see how the classifier performs.\n",
        "\n"
      ]
    },
    {
      "cell_type": "code",
      "metadata": {
        "id": "ADFR76zQubeo",
        "colab_type": "code",
        "colab": {}
      },
      "source": [
        "# initialize variables for data collection\n",
        "modified_test_scores = []\n",
        "best_modified_models = []\n",
        "best_removed_feature = []"
      ],
      "execution_count": null,
      "outputs": []
    },
    {
      "cell_type": "code",
      "metadata": {
        "id": "pGqyCKXaboOG",
        "colab_type": "code",
        "colab": {
          "base_uri": "https://localhost:8080/",
          "height": 617
        },
        "outputId": "87d76ab1-59b1-4c76-a51e-32f145f55576"
      },
      "source": [
        "top_score = 0.0\n",
        "feature_removed = \"\"\n",
        "modified_best_gnb = None\n",
        "\n",
        "for feature in X_train.columns:\n",
        "  X_train_less_features = X_train.drop(feature, axis=1)\n",
        "  X_val_less_features = X_val.drop(feature, axis=1)\n",
        "  \n",
        "  print(\"Testing with Removal of {}\".format(feature))\n",
        "  modified_gnb, modified_best_hyperparams, best_score = GNB_grid_search(X_train_less_features, y_train, X_val_less_features, y_val, verbose=False)\n",
        "\n",
        "  if best_score > top_score:\n",
        "    top_score = best_score\n",
        "    feature_removed = feature\n",
        "    modified_best_gnb = modified_gnb\n",
        "    X_train_working_set = X_train_less_features\n",
        "\n",
        "print(\"Best Score with a removed feature: {}\".format(top_score))\n",
        "print(\"Feature Removed: {}\".format(feature_removed))\n",
        "\n",
        "y_val_preds = modified_best_gnb.predict(X_test.drop(feature_removed, axis=1))\n",
        "score = f1_score(y_test, y_test_preds)\n",
        "\n",
        "modified_test_scores.append(score)\n",
        "best_modified_models.append(modified_best_gnb)\n",
        "best_removed_feature.append(feature_removed)\n",
        "\n",
        "print('Test Score {}'.format(score))"
      ],
      "execution_count": null,
      "outputs": [
        {
          "output_type": "stream",
          "text": [
            "Testing with Removal of on_time\n",
            "Best hyperparameters:\n",
            "{'var_smoothing': 0.1}\n",
            "Train Score: 0.6956521739130435\n",
            "Test Score: 0.5333333333333333\n",
            "Testing with Removal of as_expected\n",
            "Best hyperparameters:\n",
            "{'var_smoothing': 1}\n",
            "Train Score: 0.7301587301587301\n",
            "Test Score: 0.5333333333333333\n",
            "Testing with Removal of everything_ordered\n",
            "Best hyperparameters:\n",
            "{'var_smoothing': 0.1}\n",
            "Train Score: 0.6779661016949152\n",
            "Test Score: 0.5333333333333333\n",
            "Testing with Removal of good_price\n",
            "Best hyperparameters:\n",
            "{'var_smoothing': 1}\n",
            "Train Score: 0.7142857142857142\n",
            "Test Score: 0.5333333333333333\n",
            "Testing with Removal of satisfied_courier\n",
            "Best hyperparameters:\n",
            "{'var_smoothing': 1}\n",
            "Train Score: 0.7175572519083969\n",
            "Test Score: 0.6250000000000001\n",
            "Testing with Removal of app_easy\n",
            "Best hyperparameters:\n",
            "{'var_smoothing': 1}\n",
            "Train Score: 0.7154471544715447\n",
            "Test Score: 0.588235294117647\n",
            "Best Score with a removed feature: 0.6250000000000001\n",
            "Feature Removed: satisfied_courier\n",
            "Test Score 0.631578947368421\n"
          ],
          "name": "stdout"
        }
      ]
    },
    {
      "cell_type": "code",
      "metadata": {
        "id": "mRsDuv5UbnHc",
        "colab_type": "code",
        "colab": {
          "base_uri": "https://localhost:8080/",
          "height": 617
        },
        "outputId": "2e545553-47bf-47fc-bb87-1070df3b8e36"
      },
      "source": [
        "top_score = 0.0\n",
        "feature_removed = \"\"\n",
        "modified_best_logr = None\n",
        "\n",
        "for feature in X_train.columns:\n",
        "  X_train_less_features = X_train.drop(feature, axis=1)\n",
        "  X_test_less_features = X_test.drop(feature, axis=1)\n",
        "  \n",
        "  print(\"Testing with Removal of {}\".format(feature))\n",
        "  modified_logr, modified_best_hyperparams, best_score = logistic_regression_grid_search(X_train_less_features, y_train, X_val_less_features, y_val, verbose=False)\n",
        "\n",
        "  if best_score > top_score:\n",
        "    top_score = best_score\n",
        "    feature_removed = feature\n",
        "    modified_best_logr = modified_logr\n",
        "    X_train_working_set = X_train_less_features\n",
        "\n",
        "print(\"Best Score with a removed feature: {}\".format(top_score))\n",
        "print(\"Feature Removed: {}\".format(feature_removed))\n",
        "\n",
        "y_test_preds = modified_logr.predict(X_test.drop(feature_removed, axis=1))\n",
        "score = f1_score(y_test, y_test_preds)\n",
        "\n",
        "modified_test_scores.append(score)\n",
        "best_modified_models.append(modified_best_logr)\n",
        "best_removed_feature.append(feature_removed)\n",
        "\n",
        "print('Test Score {}'.format(score))"
      ],
      "execution_count": null,
      "outputs": [
        {
          "output_type": "stream",
          "text": [
            "Testing with Removal of on_time\n",
            "Best hyperparameters:\n",
            "{'C': 0.01, 'class_weight': None, 'solver': 'liblinear', 'random_state': 42}\n",
            "Train Score: 0.7096774193548387\n",
            "Test Score: 0.7368421052631579\n",
            "Testing with Removal of as_expected\n",
            "Best hyperparameters:\n",
            "{'C': 1.0, 'class_weight': None, 'solver': 'liblinear', 'random_state': 42}\n",
            "Train Score: 0.7142857142857142\n",
            "Test Score: 0.7777777777777778\n",
            "Testing with Removal of everything_ordered\n",
            "Best hyperparameters:\n",
            "{'C': 0.1, 'class_weight': None, 'solver': 'liblinear', 'random_state': 42}\n",
            "Train Score: 0.703125\n",
            "Test Score: 0.7777777777777778\n",
            "Testing with Removal of good_price\n",
            "Best hyperparameters:\n",
            "{'C': 0.01, 'class_weight': 'balanced', 'solver': 'liblinear', 'random_state': 42}\n",
            "Train Score: 0.7464788732394366\n",
            "Test Score: 0.75\n",
            "Testing with Removal of satisfied_courier\n",
            "Best hyperparameters:\n",
            "{'C': 0.01, 'class_weight': None, 'solver': 'liblinear', 'random_state': 42}\n",
            "Train Score: 0.7051282051282052\n",
            "Test Score: 0.7368421052631579\n",
            "Testing with Removal of app_easy\n",
            "Best hyperparameters:\n",
            "{'C': 0.01, 'class_weight': None, 'solver': 'liblinear', 'random_state': 42}\n",
            "Train Score: 0.7142857142857143\n",
            "Test Score: 0.7368421052631579\n",
            "Best Score with a removed feature: 0.7777777777777778\n",
            "Feature Removed: as_expected\n",
            "Test Score 0.631578947368421\n"
          ],
          "name": "stdout"
        }
      ]
    },
    {
      "cell_type": "code",
      "metadata": {
        "id": "XjlzoBS7nYZM",
        "colab_type": "code",
        "colab": {
          "base_uri": "https://localhost:8080/",
          "height": 617
        },
        "outputId": "c056c329-1e7d-4409-bec6-ec7b48458cdf"
      },
      "source": [
        "top_score = 0.0\n",
        "feature_removed = \"\"\n",
        "modified_best_rf = None\n",
        "\n",
        "for feature in X_train.columns:\n",
        "  X_train_less_features = X_train.drop(feature, axis=1)\n",
        "  X_val_less_features = X_val.drop(feature, axis=1)\n",
        "  \n",
        "  print(\"Testing with Removal of {}\".format(feature))\n",
        "  modified_rf, modified_best_hyperparams, best_score = random_forest_grid_search(X_train_less_features, y_train, X_val_less_features, y_val, verbose=False)\n",
        "\n",
        "  if best_score > top_score:\n",
        "    top_score = best_score\n",
        "    feature_removed = feature\n",
        "    modified_best_rf = modified_rf\n",
        "    X_train_working_set = X_train_less_features\n",
        "\n",
        "print(\"Best Score with a removed feature: {}\".format(top_score))\n",
        "print(\"Feature Removed: {}\".format(feature_removed))\n",
        "\n",
        "y_test_preds = modified_best_rf.predict(X_test.drop(feature_removed, axis=1))\n",
        "score = f1_score(y_test, y_test_preds)\n",
        "\n",
        "modified_test_scores.append(score)\n",
        "best_modified_models.append(modified_best_rf)\n",
        "best_removed_feature.append(feature_removed)\n",
        "\n",
        "print('Test Score {}'.format(score))"
      ],
      "execution_count": null,
      "outputs": [
        {
          "output_type": "stream",
          "text": [
            "Testing with Removal of on_time\n",
            "Best hyperparameters:\n",
            "{'n_estimators': 2, 'max_depth': 1, 'min_samples_leaf': 2, 'min_samples_split': 4, 'random_state': 42}\n",
            "Train Score: 0.7019867549668874\n",
            "Train Score: 0.7777777777777778\n",
            "Testing with Removal of as_expected\n",
            "Best hyperparameters:\n",
            "{'n_estimators': 10, 'max_depth': 8, 'min_samples_leaf': 2, 'min_samples_split': 4, 'random_state': 42}\n",
            "Train Score: 0.8392857142857144\n",
            "Train Score: 0.7999999999999999\n",
            "Testing with Removal of everything_ordered\n",
            "Best hyperparameters:\n",
            "{'n_estimators': 5, 'max_depth': 8, 'min_samples_leaf': 1, 'min_samples_split': 3, 'random_state': 42}\n",
            "Train Score: 0.819047619047619\n",
            "Train Score: 0.7999999999999999\n",
            "Testing with Removal of good_price\n",
            "Best hyperparameters:\n",
            "{'n_estimators': 2, 'max_depth': 8, 'min_samples_leaf': 1, 'min_samples_split': 4, 'random_state': 42}\n",
            "Train Score: 0.8141592920353982\n",
            "Train Score: 0.7692307692307692\n",
            "Testing with Removal of satisfied_courier\n",
            "Best hyperparameters:\n",
            "{'n_estimators': 50, 'max_depth': 8, 'min_samples_leaf': 0.5, 'min_samples_split': 4, 'random_state': 42}\n",
            "Train Score: 0.7051282051282052\n",
            "Train Score: 0.7368421052631579\n",
            "Testing with Removal of app_easy\n",
            "Best hyperparameters:\n",
            "{'n_estimators': 25, 'max_depth': 5, 'min_samples_leaf': 1, 'min_samples_split': 3, 'random_state': 42}\n",
            "Train Score: 0.8545454545454545\n",
            "Train Score: 0.7999999999999999\n",
            "Best Score with a removed feature: 0.7999999999999999\n",
            "Feature Removed: as_expected\n",
            "Test Score 0.9090909090909091\n"
          ],
          "name": "stdout"
        }
      ]
    },
    {
      "cell_type": "code",
      "metadata": {
        "id": "Tm1QJ0FIbojF",
        "colab_type": "code",
        "colab": {
          "base_uri": "https://localhost:8080/",
          "height": 617
        },
        "outputId": "32bcdeb4-670f-4fec-ff3b-b751663b591a"
      },
      "source": [
        "top_score = 0.0\n",
        "feature_removed = \"\"\n",
        "modified_best_svc = None\n",
        "\n",
        "for feature in X_train.columns:\n",
        "  X_train_less_features = X_train.drop(feature, axis=1)\n",
        "  X_val_less_features = X_val.drop(feature, axis=1)\n",
        "  \n",
        "  print(\"Testing with Removal of {}\".format(feature))\n",
        "  modified_svc, modified_best_hyperparams, best_score = SVC_grid_search(X_train_less_features, y_train, X_val_less_features, y_val, verbose=False)\n",
        "\n",
        "  if best_score > top_score:\n",
        "    top_score = best_score\n",
        "    feature_removed = feature\n",
        "    modified_best_svc = modified_svc\n",
        "    X_train_working_set = X_train_less_features\n",
        "\n",
        "print(\"Best Score with a removed feature: {}\".format(top_score))\n",
        "print(\"Feature Removed: {}\".format(feature_removed))\n",
        "\n",
        "y_test_preds = modified_svc.predict(X_test.drop(feature_removed, axis=1))\n",
        "score = f1_score(y_test, y_test_preds)\n",
        "\n",
        "modified_test_scores.append(score)\n",
        "best_modified_models.append(modified_best_svc)\n",
        "best_removed_feature.append(feature_removed)\n",
        "\n",
        "print('Test Score {}'.format(score))"
      ],
      "execution_count": null,
      "outputs": [
        {
          "output_type": "stream",
          "text": [
            "Testing with Removal of on_time\n",
            "Best hyperparameters:\n",
            "{'C': 10.0, 'kernel': 'sigmoid', 'random_state': 42}\n",
            "Train Score: 0.7051282051282052\n",
            "Test Score: 0.7368421052631579\n",
            "Testing with Removal of as_expected\n",
            "Best hyperparameters:\n",
            "{'C': 10.0, 'kernel': 'sigmoid', 'random_state': 42}\n",
            "Train Score: 0.7051282051282052\n",
            "Test Score: 0.7368421052631579\n",
            "Testing with Removal of everything_ordered\n",
            "Best hyperparameters:\n",
            "{'C': 10.0, 'kernel': 'sigmoid', 'random_state': 42}\n",
            "Train Score: 0.7051282051282052\n",
            "Test Score: 0.7368421052631579\n",
            "Testing with Removal of good_price\n",
            "Best hyperparameters:\n",
            "{'C': 10.0, 'kernel': 'sigmoid', 'random_state': 42}\n",
            "Train Score: 0.7051282051282052\n",
            "Test Score: 0.7368421052631579\n",
            "Testing with Removal of satisfied_courier\n",
            "Best hyperparameters:\n",
            "{'C': 10.0, 'kernel': 'sigmoid', 'random_state': 42}\n",
            "Train Score: 0.7051282051282052\n",
            "Test Score: 0.7368421052631579\n",
            "Testing with Removal of app_easy\n",
            "Best hyperparameters:\n",
            "{'C': 10.0, 'kernel': 'rbf', 'random_state': 42}\n",
            "Train Score: 0.8468468468468467\n",
            "Test Score: 0.75\n",
            "Best Score with a removed feature: 0.75\n",
            "Feature Removed: app_easy\n",
            "Test Score 0.8333333333333334\n"
          ],
          "name": "stdout"
        }
      ]
    },
    {
      "cell_type": "code",
      "metadata": {
        "id": "gwxvo7kCvJPh",
        "colab_type": "code",
        "colab": {
          "base_uri": "https://localhost:8080/",
          "height": 168
        },
        "outputId": "29e98383-d366-4162-e60f-fa2f13afa7d2"
      },
      "source": [
        "classifier_labels = ['Gaussian Naive Bayes', 'Logistic Regression', 'Random Forest', 'Support Vector Classification']\n",
        "removed_features = best_removed_feature\n",
        "\n",
        "d = {'Original F1 Scores': test_f1_scores, 'F1 Score With a Removed Feature': modified_test_scores, 'Removed Feature': removed_features}\n",
        "\n",
        "val_df = pd.DataFrame(data=d, index=classifier_labels)\n",
        "\n",
        "val_df.head()"
      ],
      "execution_count": null,
      "outputs": [
        {
          "output_type": "execute_result",
          "data": {
            "text/html": [
              "<div>\n",
              "<style scoped>\n",
              "    .dataframe tbody tr th:only-of-type {\n",
              "        vertical-align: middle;\n",
              "    }\n",
              "\n",
              "    .dataframe tbody tr th {\n",
              "        vertical-align: top;\n",
              "    }\n",
              "\n",
              "    .dataframe thead th {\n",
              "        text-align: right;\n",
              "    }\n",
              "</style>\n",
              "<table border=\"1\" class=\"dataframe\">\n",
              "  <thead>\n",
              "    <tr style=\"text-align: right;\">\n",
              "      <th></th>\n",
              "      <th>Original F1 Scores</th>\n",
              "      <th>F1 Score With a Removed Feature</th>\n",
              "      <th>Removed Feature</th>\n",
              "    </tr>\n",
              "  </thead>\n",
              "  <tbody>\n",
              "    <tr>\n",
              "      <th>Gaussian Naive Bayes</th>\n",
              "      <td>0.533333</td>\n",
              "      <td>0.631579</td>\n",
              "      <td>satisfied_courier</td>\n",
              "    </tr>\n",
              "    <tr>\n",
              "      <th>Logistic Regression</th>\n",
              "      <td>0.555556</td>\n",
              "      <td>0.631579</td>\n",
              "      <td>as_expected</td>\n",
              "    </tr>\n",
              "    <tr>\n",
              "      <th>Random Forest</th>\n",
              "      <td>0.909091</td>\n",
              "      <td>0.909091</td>\n",
              "      <td>as_expected</td>\n",
              "    </tr>\n",
              "    <tr>\n",
              "      <th>Support Vector Classification</th>\n",
              "      <td>0.631579</td>\n",
              "      <td>0.833333</td>\n",
              "      <td>app_easy</td>\n",
              "    </tr>\n",
              "  </tbody>\n",
              "</table>\n",
              "</div>"
            ],
            "text/plain": [
              "                               Original F1 Scores  ...    Removed Feature\n",
              "Gaussian Naive Bayes                     0.533333  ...  satisfied_courier\n",
              "Logistic Regression                      0.555556  ...        as_expected\n",
              "Random Forest                            0.909091  ...        as_expected\n",
              "Support Vector Classification            0.631579  ...           app_easy\n",
              "\n",
              "[4 rows x 3 columns]"
            ]
          },
          "metadata": {
            "tags": []
          },
          "execution_count": 25
        }
      ]
    },
    {
      "cell_type": "markdown",
      "metadata": {
        "id": "e84e34zwq3_g",
        "colab_type": "text"
      },
      "source": [
        "As shown above, if we remove certain questions from the survey the models generally perform better, let's examine them with confusion matrices below.\n",
        "\n"
      ]
    },
    {
      "cell_type": "code",
      "metadata": {
        "id": "MS14QJ-CrhLh",
        "colab_type": "code",
        "colab": {
          "base_uri": "https://localhost:8080/",
          "height": 689
        },
        "outputId": "b0c279f3-6df7-4c1b-dbd8-17a3fbf2ac78"
      },
      "source": [
        "# plot confusion matrices\n",
        "fig, ax = plt.subplots(1, 4, figsize=(20,3))\n",
        "\n",
        "# plot validation confusion matrices\n",
        "for clf, ax in zip(clfs, ax.flatten()):\n",
        "  plot_confusion_matrix(clf,\n",
        "                        X_val,\n",
        "                        y_val,\n",
        "                        ax=ax,\n",
        "                        cmap='Reds',\n",
        "                        display_labels=classes)\n",
        "  ax.title.set_text(\"{} performance on Val Set\".format(type(clf).__name__))\n",
        "\n",
        "fig2, ax2 = plt.subplots(1, 4, figsize=(20,3))\n",
        "\n",
        "# plot test set confusion matrices\n",
        "for clf, ax2 in zip(clfs, ax2.flatten()):\n",
        "  plot_confusion_matrix(clf,\n",
        "                      X_test,\n",
        "                      y_test,\n",
        "                      ax=ax2,\n",
        "                      cmap='Reds',\n",
        "                      display_labels=classes)\n",
        "  ax2.title.set_text(\"{} performance on Test Set\".format(type(clf).__name__))\n",
        "\n",
        "# plot confusion matrices\n",
        "fig3, ax3 = plt.subplots(1, 4, figsize=(20,3))\n",
        "\n",
        "for clf, feature, ax3 in zip(best_modified_models, best_removed_feature, ax3.flatten()):\n",
        "  plot_confusion_matrix(clf,\n",
        "                        X_test.drop(feature, axis=1),\n",
        "                        y_test,\n",
        "                        ax=ax3,\n",
        "                        cmap='Reds',\n",
        "                        display_labels=classes)\n",
        "  ax3.title.set_text(\"{} with {} removed\".format(type(clf).__name__, feature))\n",
        "  \n",
        "\n",
        "plt.show()\n",
        "\n"
      ],
      "execution_count": null,
      "outputs": [
        {
          "output_type": "display_data",
          "data": {
            "image/png": "[encoded data removed]",
            "text/plain": [
              "<Figure size 1440x216 with 8 Axes>"
            ]
          },
          "metadata": {
            "tags": [],
            "needs_background": "light"
          }
        },
        {
          "output_type": "display_data",
          "data": {
            "image/png": "[encoded data removed]",
            "text/plain": [
              "<Figure size 1440x216 with 8 Axes>"
            ]
          },
          "metadata": {
            "tags": [],
            "needs_background": "light"
          }
        },
        {
          "output_type": "display_data",
          "data": {
            "image/png": "[encoded data removed]",
            "text/plain": [
              "<Figure size 1440x216 with 8 Axes>"
            ]
          },
          "metadata": {
            "tags": [],
            "needs_background": "light"
          }
        }
      ]
    },
    {
      "cell_type": "markdown",
      "metadata": {
        "id": "-LxPIqBosAvt",
        "colab_type": "text"
      },
      "source": [
        "By examining the confusion matrices, we can see that the models were generally able to learn the data better, some more than others. Aside from the equally performant random forest classifer, the SVC was able to learn the difference between happy and unhappy customers, and the logistic regression and gaussian NB are starting to learn the data.\n",
        "\n",
        "These matrices show that we can remove some questions, based on which classifer we are using to classify the data."
      ]
    }
  ]
}